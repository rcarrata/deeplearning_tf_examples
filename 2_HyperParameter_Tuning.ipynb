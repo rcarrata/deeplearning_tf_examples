{
  "cells": [
    {
      "cell_type": "markdown",
      "metadata": {
        "id": "view-in-github",
        "colab_type": "text"
      },
      "source": [
        "<a href=\"https://colab.research.google.com/github/rcarrata/lpic-vagrant/blob/master/2_HyperParameter_Tuning.ipynb\" target=\"_parent\"><img src=\"https://colab.research.google.com/assets/colab-badge.svg\" alt=\"Open In Colab\"/></a>"
      ]
    },
    {
      "cell_type": "code",
      "source": [
        "### Exercise 0 - LOADING DATASET\n",
        "\n",
        "import pandas as pd\n",
        "from google.colab import drive\n",
        "drive.mount('/content/drive')\n",
        "\n",
        "!ls \"/content/drive/My Drive/Colab/Insurance/insurance.csv\"\n",
        "\n",
        "root_folder = \"/content/drive/My Drive/Colab/\"\n",
        "project_folder = \"Insurance/\"\n",
        "csv_file = \"insurance.csv\"\n",
        "\n",
        "csv_data = root_folder + project_folder + csv_file\n",
        "print(csv_data)\n",
        "\n",
        "dataset = pd.read_csv(csv_data)\n",
        "\n",
        "from google.colab.data_table import DataTable\n",
        "DataTable.max_columns = 60\n",
        "\n",
        "dataset.head()\n",
        "\n"
      ],
      "metadata": {
        "colab": {
          "base_uri": "https://localhost:8080/",
          "height": 259
        },
        "id": "nauJa7yR1QHn",
        "outputId": "63c4c480-2635-4d2c-d12a-65cd09454d09"
      },
      "execution_count": null,
      "outputs": [
        {
          "output_type": "stream",
          "name": "stdout",
          "text": [
            "Mounted at /content/drive\n",
            "'/content/drive/My Drive/Colab/Insurance/insurance.csv'\n",
            "/content/drive/My Drive/Colab/Insurance/insurance.csv\n"
          ]
        },
        {
          "output_type": "execute_result",
          "data": {
            "text/plain": [
              "   age     sex     bmi  children smoker     region      charges\n",
              "0   19  female  27.900         0    yes  southwest  16884.92400\n",
              "1   18    male  33.770         1     no  southeast   1725.55230\n",
              "2   28    male  33.000         3     no  southeast   4449.46200\n",
              "3   33    male  22.705         0     no  northwest  21984.47061\n",
              "4   32    male  28.880         0     no  northwest   3866.85520"
            ],
            "text/html": [
              "\n",
              "  <div id=\"df-2d0fa434-f8a0-4c6b-acf0-33ef78502526\">\n",
              "    <div class=\"colab-df-container\">\n",
              "      <div>\n",
              "<style scoped>\n",
              "    .dataframe tbody tr th:only-of-type {\n",
              "        vertical-align: middle;\n",
              "    }\n",
              "\n",
              "    .dataframe tbody tr th {\n",
              "        vertical-align: top;\n",
              "    }\n",
              "\n",
              "    .dataframe thead th {\n",
              "        text-align: right;\n",
              "    }\n",
              "</style>\n",
              "<table border=\"1\" class=\"dataframe\">\n",
              "  <thead>\n",
              "    <tr style=\"text-align: right;\">\n",
              "      <th></th>\n",
              "      <th>age</th>\n",
              "      <th>sex</th>\n",
              "      <th>bmi</th>\n",
              "      <th>children</th>\n",
              "      <th>smoker</th>\n",
              "      <th>region</th>\n",
              "      <th>charges</th>\n",
              "    </tr>\n",
              "  </thead>\n",
              "  <tbody>\n",
              "    <tr>\n",
              "      <th>0</th>\n",
              "      <td>19</td>\n",
              "      <td>female</td>\n",
              "      <td>27.900</td>\n",
              "      <td>0</td>\n",
              "      <td>yes</td>\n",
              "      <td>southwest</td>\n",
              "      <td>16884.92400</td>\n",
              "    </tr>\n",
              "    <tr>\n",
              "      <th>1</th>\n",
              "      <td>18</td>\n",
              "      <td>male</td>\n",
              "      <td>33.770</td>\n",
              "      <td>1</td>\n",
              "      <td>no</td>\n",
              "      <td>southeast</td>\n",
              "      <td>1725.55230</td>\n",
              "    </tr>\n",
              "    <tr>\n",
              "      <th>2</th>\n",
              "      <td>28</td>\n",
              "      <td>male</td>\n",
              "      <td>33.000</td>\n",
              "      <td>3</td>\n",
              "      <td>no</td>\n",
              "      <td>southeast</td>\n",
              "      <td>4449.46200</td>\n",
              "    </tr>\n",
              "    <tr>\n",
              "      <th>3</th>\n",
              "      <td>33</td>\n",
              "      <td>male</td>\n",
              "      <td>22.705</td>\n",
              "      <td>0</td>\n",
              "      <td>no</td>\n",
              "      <td>northwest</td>\n",
              "      <td>21984.47061</td>\n",
              "    </tr>\n",
              "    <tr>\n",
              "      <th>4</th>\n",
              "      <td>32</td>\n",
              "      <td>male</td>\n",
              "      <td>28.880</td>\n",
              "      <td>0</td>\n",
              "      <td>no</td>\n",
              "      <td>northwest</td>\n",
              "      <td>3866.85520</td>\n",
              "    </tr>\n",
              "  </tbody>\n",
              "</table>\n",
              "</div>\n",
              "      <button class=\"colab-df-convert\" onclick=\"convertToInteractive('df-2d0fa434-f8a0-4c6b-acf0-33ef78502526')\"\n",
              "              title=\"Convert this dataframe to an interactive table.\"\n",
              "              style=\"display:none;\">\n",
              "        \n",
              "  <svg xmlns=\"http://www.w3.org/2000/svg\" height=\"24px\"viewBox=\"0 0 24 24\"\n",
              "       width=\"24px\">\n",
              "    <path d=\"M0 0h24v24H0V0z\" fill=\"none\"/>\n",
              "    <path d=\"M18.56 5.44l.94 2.06.94-2.06 2.06-.94-2.06-.94-.94-2.06-.94 2.06-2.06.94zm-11 1L8.5 8.5l.94-2.06 2.06-.94-2.06-.94L8.5 2.5l-.94 2.06-2.06.94zm10 10l.94 2.06.94-2.06 2.06-.94-2.06-.94-.94-2.06-.94 2.06-2.06.94z\"/><path d=\"M17.41 7.96l-1.37-1.37c-.4-.4-.92-.59-1.43-.59-.52 0-1.04.2-1.43.59L10.3 9.45l-7.72 7.72c-.78.78-.78 2.05 0 2.83L4 21.41c.39.39.9.59 1.41.59.51 0 1.02-.2 1.41-.59l7.78-7.78 2.81-2.81c.8-.78.8-2.07 0-2.86zM5.41 20L4 18.59l7.72-7.72 1.47 1.35L5.41 20z\"/>\n",
              "  </svg>\n",
              "      </button>\n",
              "      \n",
              "  <style>\n",
              "    .colab-df-container {\n",
              "      display:flex;\n",
              "      flex-wrap:wrap;\n",
              "      gap: 12px;\n",
              "    }\n",
              "\n",
              "    .colab-df-convert {\n",
              "      background-color: #E8F0FE;\n",
              "      border: none;\n",
              "      border-radius: 50%;\n",
              "      cursor: pointer;\n",
              "      display: none;\n",
              "      fill: #1967D2;\n",
              "      height: 32px;\n",
              "      padding: 0 0 0 0;\n",
              "      width: 32px;\n",
              "    }\n",
              "\n",
              "    .colab-df-convert:hover {\n",
              "      background-color: #E2EBFA;\n",
              "      box-shadow: 0px 1px 2px rgba(60, 64, 67, 0.3), 0px 1px 3px 1px rgba(60, 64, 67, 0.15);\n",
              "      fill: #174EA6;\n",
              "    }\n",
              "\n",
              "    [theme=dark] .colab-df-convert {\n",
              "      background-color: #3B4455;\n",
              "      fill: #D2E3FC;\n",
              "    }\n",
              "\n",
              "    [theme=dark] .colab-df-convert:hover {\n",
              "      background-color: #434B5C;\n",
              "      box-shadow: 0px 1px 3px 1px rgba(0, 0, 0, 0.15);\n",
              "      filter: drop-shadow(0px 1px 2px rgba(0, 0, 0, 0.3));\n",
              "      fill: #FFFFFF;\n",
              "    }\n",
              "  </style>\n",
              "\n",
              "      <script>\n",
              "        const buttonEl =\n",
              "          document.querySelector('#df-2d0fa434-f8a0-4c6b-acf0-33ef78502526 button.colab-df-convert');\n",
              "        buttonEl.style.display =\n",
              "          google.colab.kernel.accessAllowed ? 'block' : 'none';\n",
              "\n",
              "        async function convertToInteractive(key) {\n",
              "          const element = document.querySelector('#df-2d0fa434-f8a0-4c6b-acf0-33ef78502526');\n",
              "          const dataTable =\n",
              "            await google.colab.kernel.invokeFunction('convertToInteractive',\n",
              "                                                     [key], {});\n",
              "          if (!dataTable) return;\n",
              "\n",
              "          const docLinkHtml = 'Like what you see? Visit the ' +\n",
              "            '<a target=\"_blank\" href=https://colab.research.google.com/notebooks/data_table.ipynb>data table notebook</a>'\n",
              "            + ' to learn more about interactive tables.';\n",
              "          element.innerHTML = '';\n",
              "          dataTable['output_type'] = 'display_data';\n",
              "          await google.colab.output.renderOutput(dataTable, element);\n",
              "          const docLink = document.createElement('div');\n",
              "          docLink.innerHTML = docLinkHtml;\n",
              "          element.appendChild(docLink);\n",
              "        }\n",
              "      </script>\n",
              "    </div>\n",
              "  </div>\n",
              "  "
            ]
          },
          "metadata": {},
          "execution_count": 1
        }
      ]
    },
    {
      "cell_type": "code",
      "source": [
        "## EXERCISE 0 - Desing Model Functions\n",
        "\n",
        "import tensorflow as tf\n",
        "import pandas as pd\n",
        "from tensorflow.keras.models import Sequential\n",
        "from tensorflow.keras import layers\n",
        "from sklearn.model_selection import train_test_split\n",
        "from sklearn.preprocessing import StandardScaler\n",
        "from sklearn.compose import ColumnTransformer\n",
        "from sklearn.preprocessing import Normalizer\n",
        "import matplotlib.pyplot as plt\n",
        "from tensorflow.keras.optimizers import Adam\n",
        "\n",
        "\n",
        "# For reproducibility of result we always use the same seed for random number generator\n",
        "# Operations that rely on a random seed actually derive it from two seeds: the global and operation-level seeds. This sets the global seed.\n",
        "# https://www.tensorflow.org/api_docs/python/tf/random/set_seed\n",
        "tf.random.set_seed(42) \n",
        "\n",
        "# Already imported in the step before\n",
        "#dataset = pd.read_csv(\"insurance.csv\") \n",
        "dataset.to_csv(\"test.csv\", index = False)\n",
        "\n",
        "# Function to design the model\n",
        "def design_model(X, learning_rate):  \n",
        "    model = Sequential(name=\"my_first_model\")\n",
        "    input = tf.keras.Input(shape=(X.shape[1],))\n",
        "    model.add(input)\n",
        "    # Adding one hidden layer\n",
        "    model.add(layers.Dense(64, activation='relu')) \n",
        "    model.add(layers.Dense(1))\n",
        "    # --> Setting the learning rate of Adam to the one specified in the function parameter <--\n",
        "    opt = Adam(learning_rate = learning_rate)\n",
        "    model.compile(loss='mse', metrics=['mae'], optimizer=opt)\n",
        "    return model\n",
        "\n",
        "    # In the case of regression, the most often used loss function is the Mean \n",
        "    # Squared Error mse (the average squared difference between the estimated values and\n",
        "    # the actual value). Additionally, we want to observe the progress of the Mean \n",
        "    # Absolute Error ( mae ) while training the model\n",
        "    # because MAE can give us a better idea than mse on\n",
        "    # how far off we are from the true values in the units we\n",
        "    # are predicting.\n",
        "\n",
        "features = dataset.iloc[:,0:6] #choose first 7 columns as features\n",
        "labels = dataset.iloc[:,-1] #choose the final column for prediction\n",
        "features = pd.get_dummies(features) #one hot encoding for categorical variables\n",
        "features_train, features_test, labels_train, labels_test = train_test_split(features, labels, test_size=0.33, random_state=42)\n",
        "\n",
        "#standardize\n",
        "ct = ColumnTransformer([('standardize', StandardScaler(), ['age', 'bmi', 'children'])], remainder='passthrough')\n",
        "features_train = ct.fit_transform(features_train) # Gives numpy arrays\n",
        "features_test = ct.transform(features_test) # Gives numpy arrays\n",
        "\n",
        "\n"
      ],
      "metadata": {
        "id": "deoYGNWy1hsu"
      },
      "execution_count": null,
      "outputs": []
    },
    {
      "cell_type": "markdown",
      "source": [
        "# THEORY 1 - Using a validation set for hyperparameter tuning\n",
        "\n",
        "* Using the *training data to choose hyperparameters might lead to overfitting to the training data meaning the model learns patterns* specific to the training data that would not apply to new data. \n",
        "\n",
        "* For that reason, **hyperparameters are chosen on a held-out set called validation set.**\n",
        "\n",
        "* In TensorFlow Keras, **validation split can be specified** as a parameter in the **.fit()** function:\n",
        "\n",
        "```python\n",
        "my_model.fit(data, labels, epochs = 20, batch_size = 1, verbose = 1,  validation_split = 0.2)\n",
        "```\n",
        "\n",
        " where validation_split is a float between 0 and 1, denoting a fraction of the training data to be used as validation data. \n",
        "\n",
        "* In the example above, 20% of the data would be allocated for validation. It is usually a small fraction of the training data.\n",
        "\n",
        "* The model will set apart this fraction of the training data, will not train on it, and will evaluate the loss and any model metrics on this data at the end of each epoch."
      ],
      "metadata": {
        "id": "DH5AU2Yd0KYP"
      }
    },
    {
      "cell_type": "code",
      "source": [
        "# EXERCISE 1 - Using a validation set for hyperparameter tuning\n",
        "\n",
        "model = design_model(features_train, learning_rate = 0.01)\n",
        "\n",
        "# activate verbose to see output\n",
        "model.fit(features_train, labels_train, epochs = 40, batch_size = 8, verbose = 0, validation_split = 0.33)"
      ],
      "metadata": {
        "colab": {
          "base_uri": "https://localhost:8080/"
        },
        "id": "UpZwwomJ1JpR",
        "outputId": "c1597b0d-2275-4101-baa5-00ae344291aa"
      },
      "execution_count": null,
      "outputs": [
        {
          "output_type": "execute_result",
          "data": {
            "text/plain": [
              "<keras.callbacks.History at 0x7f36eb5c6090>"
            ]
          },
          "metadata": {},
          "execution_count": 9
        }
      ]
    },
    {
      "cell_type": "markdown",
      "source": [
        "# THEORY 2 - Manual tuning: learning rate\n",
        "\n",
        "* Neural networks are trained with the **gradient descent algorithm** and one of the most important hyperparameters in the network training is the **learning rate**. \n",
        "\n",
        "* The **learning rate** determines *how big of a change you apply to the network weights as a consequence of the error gradient calculated on a batch of training data*.\n",
        "\n",
        "* A *larger learning rate leads to a faster learning process at a cost to be stuck in a suboptimal solution* (local minimum). \n",
        " * A **smaller learning rate** might produce a good suboptimal or global solution, but it will take it much longer to converge. \n",
        " * In the extremes, a **learning rate too large** will lead to an unstable learning process oscillating over the epochs. \n",
        " * A **learning rate too small** may not converge or get stuck in a local minimum.\n",
        "\n",
        "* *It can be helpful to test different learning rates as we change our hyperparameters.* A learning rate of 1.0 leads to oscillations, 0.01 may give us a good performance, while 1e-07 is too small and almost nothing is learned within the allotted time."
      ],
      "metadata": {
        "id": "Nkigk6L5269t"
      }
    },
    {
      "cell_type": "code",
      "source": [
        "# EXERCISE 2 - Manual tuning: learning rate\n",
        "\n",
        "#see model.py file for more details\n",
        "#from model import design_model, features_train, labels_train \n",
        "import matplotlib.pyplot as plt\n",
        "\n",
        "def fit_model(f_train, l_train, learning_rate, num_epochs, bs):\n",
        "    #build the model\n",
        "    model = design_model(f_train, learning_rate)\n",
        "    #train the model on the training data\n",
        "    history = model.fit(f_train, l_train, epochs = num_epochs, batch_size = bs, verbose = 0, validation_split = 0.2)\n",
        "    # plot learning curves\n",
        "    plt.plot(history.history['loss'], label='train')\n",
        "    plt.plot(history.history['val_loss'], label='validation')\n",
        "    plt.title('lrate=' + str(learning_rate))\n",
        "    plt.legend(loc=\"upper right\")\n",
        "\n",
        "\n",
        "# --> Change the learning rates\n",
        "# make a list of learning rates to try out\n",
        "# learning_rates = [1, 1E-2, 1E-7]\n",
        "learning_rates = [1E-3, 1E-4, 1E-7]\n",
        "\n",
        "#fixed number of epochs\n",
        "num_epochs = 100\n",
        "#fixed number of batches\n",
        "batch_size = 10 \n",
        "\n",
        "for i in range(len(learning_rates)):\n",
        "  plot_no = 420 + (i+1)\n",
        "  plt.subplot(plot_no)\n",
        "  fit_model(features_train, labels_train, learning_rates[i], num_epochs, batch_size)\n",
        "\n",
        "plt.tight_layout()\n",
        "plt.show()\n",
        "plt.savefig('/content/drive/My Drive/Colab/Insurance/static.png')\n",
        "print(\"See the plot on the right with learning rates\", learning_rates)\n"
      ],
      "metadata": {
        "colab": {
          "base_uri": "https://localhost:8080/",
          "height": 202
        },
        "id": "oIdoalb63a_e",
        "outputId": "b63714f9-bb0b-4e28-dda9-70a044824cc2"
      },
      "execution_count": null,
      "outputs": [
        {
          "output_type": "display_data",
          "data": {
            "text/plain": [
              "<Figure size 432x288 with 3 Axes>"
            ],
            "image/png": "[encoded data removed]"
          },
          "metadata": {
            "needs_background": "light"
          }
        },
        {
          "output_type": "stream",
          "name": "stdout",
          "text": [
            "See the plot on the right with learning rates [0.001, 0.0001, 1e-07]\n"
          ]
        },
        {
          "output_type": "display_data",
          "data": {
            "text/plain": [
              "<Figure size 432x288 with 0 Axes>"
            ]
          },
          "metadata": {}
        }
      ]
    },
    {
      "cell_type": "markdown",
      "source": [
        "# THEORY 3 - Manual tuning: batch size\n",
        "\n",
        "* The **batch size** is a *hyperparameter that determines how many training samples are seen before updating the network’s parameters* (weight and bias matrices).\n",
        "\n",
        " * ***When the batch contains all the training examples***, the process is called **batch gradient descent.** \n",
        " * ***If the batch has one sample***, it is called the **stochastic gradient descent**.  \n",
        " * And finally, ***when 1 < batch size < number of training points***, is called **mini-batch gradient descent**. \n",
        " * An advantage of using batches is for GPU computation that can parallelize neural network computations.\n",
        "\n",
        "#### How do we choose the batch size for our model? \n",
        "\n",
        "* On one hand, a **larger batch** size will provide our model with better gradient estimates and a solution close to the optimum, but this comes at a cost of computational efficiency and good generalization performance. \n",
        "\n",
        "* On the other hand, **smaller batch** size is a poor estimate of the gradient, but the learning is performed faster. Finding the “sweet spot” depends on the dataset and the problem, and can be determined through hyperparameter tuning.\n",
        "\n"
      ],
      "metadata": {
        "id": "BGq-LNBd2tDa"
      }
    },
    {
      "cell_type": "code",
      "source": [
        "# EXERCISE 3 - Manual tuning: batch size\n",
        "\n",
        "# For this experiment, we fix the learning rate to 0.01 and try the following \n",
        "# batch sizes: 1, 2, 10, and 16. Notice how small batch sizes have a larger \n",
        "# variance (more oscillation in the learning curve).\n",
        "\n",
        "# Want to improve the performance with a larger batch size? A good trick \n",
        "# is to increase the learning rate!\n",
        "\n",
        "# 1. Modify the batches list to include the following batch sizes: 4, 32, 64. \n",
        "# Rerun the code and observe the plots.\n",
        "\n",
        "# 2.In the previous checkpoint, you might have noticed bad performance for \n",
        "# larger batch sizes (32 and 64). When having performance issues with larger \n",
        "# batches it might help to increase the learning rate. Modify the value for the \n",
        "# learning rate by assigning 0.1 to the learning_rate variable. \n",
        "# Rerun the code and observe the plots.\n",
        "\n",
        "# **loss** denotes the measure of learning success and the lower the loss the \n",
        "# better the performance. In the case of regression, the most often used loss \n",
        "# function is the **Mean Squared Error** mse \n",
        "# (the average squared difference between the estimated values and the actual value).\n",
        "\n",
        "# Mean Absolute Error (mae) while training the model because MAE can give us a \n",
        "# better idea than mse on how far off we are from the true values in the units we are predicting.\n",
        "\n",
        "#from model import design_model, features_train, labels_train \n",
        "import matplotlib.pyplot as plt\n",
        "\n",
        "def fit_model(f_train, l_train, learning_rate, num_epochs, batch_size, ax):\n",
        "    model = design_model(features_train, learning_rate)\n",
        "    #train the model on the training data\n",
        "    history = model.fit(features_train, labels_train, epochs=num_epochs, batch_size = batch_size, verbose=0, validation_split = 0.3)\n",
        "    # plot learning curves\n",
        "    ax.plot(history.history['mae'], label='train')\n",
        "    ax.plot(history.history['val_mae'], label='validation')\n",
        "    ax.set_title('batch = ' + str(batch_size), fontdict={'fontsize': 8, 'fontweight': 'medium'})\n",
        "    ax.set_xlabel('# epochs')\n",
        "    ax.set_ylabel('mae')\n",
        "    ax.legend()\n",
        "\n",
        "#fixed learning rate \n",
        "learning_rate = 0.1 \n",
        "#fixed number of epochs\n",
        "num_epochs = 100\n",
        "#we choose a number of batch sizes to try out\n",
        "batches = [4, 32, 64] \n",
        "print(\"Learning rate fixed to:\", learning_rate)\n",
        "\n",
        "#plotting code\n",
        "fig, (ax1, ax2, ax3) = plt.subplots(3, 1, sharex='col', sharey='row',\n",
        "                        gridspec_kw={'hspace': 0.7, 'wspace': 0.4}) #preparing axes for plotting\n",
        "axes = [ax1, ax2, ax3]\n",
        "\n",
        "#iterate through all the batch values\n",
        "for i in range(len(batches)):\n",
        "  fit_model(features_train, labels_train, learning_rate, num_epochs, batches[i], axes[i])\n",
        "\n",
        "plt.savefig('/content/drive/My Drive/Colab/Insurance/static2.png')\n",
        "print(\"See the plot on the right with learning rates\", learning_rates)\n"
      ],
      "metadata": {
        "colab": {
          "base_uri": "https://localhost:8080/",
          "height": 327
        },
        "id": "yJopk1Yr9Zyg",
        "outputId": "fc8f0394-4328-423f-ff02-f9f7199d9a51"
      },
      "execution_count": null,
      "outputs": [
        {
          "output_type": "stream",
          "name": "stdout",
          "text": [
            "Learning rate fixed to: 0.1\n",
            "See the plot on the right with learning rates [0.001, 0.0001, 1e-07]\n"
          ]
        },
        {
          "output_type": "display_data",
          "data": {
            "text/plain": [
              "<Figure size 432x288 with 3 Axes>"
            ],
            "image/png": "[encoded data removed]"
          },
          "metadata": {
            "needs_background": "light"
          }
        }
      ]
    },
    {
      "cell_type": "markdown",
      "source": [
        "# THEORY 4 - Manual tuning: epochs and early stopping\n",
        "\n",
        "* Being an iterative process, *gradient descent iterates many times through the training data*. \n",
        "\n",
        "* **The number of epochs is a hyperparameter representing the number of complete passes through the training dataset.** This is typically a large number (100, 1000, or larger). \n",
        "\n",
        "* If the data is split into batches, in one epoch the optimizer will see all the batches.\n",
        "\n",
        "### How do you choose the number of epochs? \n",
        "\n",
        "* **Too many epochs** can lead to ***overfitting***, and **too few** to ***underfitting***. \n",
        "* One trick is to use early stopping: when the training performance reaches the plateau or starts degrading, the learning stops.\n",
        "\n",
        "* We can specify early stopping in TensorFlow with Keras by creating an **EarlyStopping callback** and adding it as a parameter when we fit our model.\n",
        "\n",
        "```python\n",
        "from tensorflow.keras.callbacks import EarlyStopping\n",
        " \n",
        "stop = EarlyStopping(monitor='val_loss', mode='min', verbose=1, patience=40)\n",
        " \n",
        "history = model.fit(features_train, labels_train, epochs=num_epochs, batch_size=16, verbose=0, validation_split=0.2, callbacks=[stop])\n",
        "```\n",
        "\n",
        "Here, we include the following:\n",
        "\n",
        "* *monitor* = val_loss, which means we are monitoring the validation loss to decide when to stop the training\n",
        "* *mode* = min, which means we seek minimal loss\n",
        "* *patience* = 40, which means that if the learning reaches a plateau, it will continue for 40 more epochs in case the plateau leads to improved performance"
      ],
      "metadata": {
        "id": "aJLRrPLQDZ0g"
      }
    },
    {
      "cell_type": "code",
      "source": [
        "# EXERCISE 4 - Manual tuning: epochs and early stopping\n",
        "\n",
        "# 1. In the fit_model() method, just before calling model.fit(), create an instance\n",
        "# of EarlyStopping that monitors the validation loss (val_loss), seeks minimal \n",
        "# loss, that is verbose, and has patience equal to 20. \n",
        "# Assign the result to a variable called es\n",
        "\n",
        "# 2. Now that you have an instance of EarlyStopping assigned to es, you need to \n",
        "# pass the instance as a callback function to the .fit() method. We left an empty \n",
        "# list for you there: callback = []. Put es as a single element in the callback. \n",
        "# Run the code. The early stopping epoch should be 47. Please verify. \n",
        "\n",
        "# from model import features_train, labels_train, design_model\n",
        "import matplotlib.pyplot as plt\n",
        "from tensorflow.keras.callbacks import EarlyStopping\n",
        "\n",
        "def fit_model(f_train, l_train, learning_rate, num_epochs):\n",
        "    #build the model: to see the specs go to model.pyl we increased the number of hidden neurons\n",
        "    #in order to introduce some overfitting\n",
        "    model = design_model(features_train, learning_rate) \n",
        "    #train the model on the training data\n",
        "    #your code here\n",
        "    es = EarlyStopping(monitor='val_loss', mode='min', verbose=1, patience = 20)\n",
        "    history = model.fit(features_train, labels_train, epochs=num_epochs, batch_size= 16, verbose=0, validation_split = 0.2, callbacks = [es])\n",
        "    return history\n",
        "\n",
        "    \n",
        "#using the early stopping in fit_model\n",
        "learning_rate = 0.1\n",
        "num_epochs = 500\n",
        "history = fit_model(features_train, labels_train, learning_rate, num_epochs)\n",
        "\n",
        "#plotting\n",
        "fig, axs = plt.subplots(1, 2, gridspec_kw={'hspace': 1, 'wspace': 0.5}) \n",
        "(ax1, ax2) = axs\n",
        "ax1.plot(history.history['loss'], label='train')\n",
        "ax1.plot(history.history['val_loss'], label='validation')\n",
        "ax1.set_title('lrate=' + str(learning_rate))\n",
        "ax1.legend(loc=\"upper right\")\n",
        "ax1.set_xlabel(\"# of epochs\")\n",
        "ax1.set_ylabel(\"loss (mse)\")\n",
        "\n",
        "ax2.plot(history.history['mae'], label='train')\n",
        "ax2.plot(history.history['val_mae'], label='validation')\n",
        "ax2.set_title('lrate=' + str(learning_rate))\n",
        "ax2.legend(loc=\"upper right\")\n",
        "ax2.set_xlabel(\"# of epochs\")\n",
        "ax2.set_ylabel(\"MAE\")\n",
        "\n",
        "print(\"Final training MAE:\", history.history['mae'][-1])\n",
        "print(\"Final validation MAE:\", history.history['val_mae'][-1])\n",
        "\n",
        "plt.savefig('/content/drive/My Drive/Colab/Insurance/static3.png')"
      ],
      "metadata": {
        "colab": {
          "base_uri": "https://localhost:8080/",
          "height": 348
        },
        "id": "N5D8GNWHDrTg",
        "outputId": "6e6188ee-fdd7-42c7-c440-c2ba7643a899"
      },
      "execution_count": null,
      "outputs": [
        {
          "output_type": "stream",
          "name": "stdout",
          "text": [
            "Epoch 72: early stopping\n",
            "Final training MAE: 2890.130126953125\n",
            "Final validation MAE: 2961.77685546875\n"
          ]
        },
        {
          "output_type": "display_data",
          "data": {
            "text/plain": [
              "<Figure size 432x288 with 2 Axes>"
            ],
            "image/png": "[encoded data removed]"
          },
          "metadata": {
            "needs_background": "light"
          }
        }
      ]
    },
    {
      "cell_type": "markdown",
      "source": [
        "# THEORY 5 - Manual tuning: changing the model\n",
        "\n",
        "We saw in the previous exercise that if you have a big model and you train too long, you might overfit. Let us see the opposite - having a too simple model.\n",
        "\n",
        "In the code on the right, we compare a one-layer neural network and a model with a single hidden layer. The models look like this:\n",
        "\n",
        "```python\n",
        "def one_layer_model(X, learning_rate):\n",
        "   ...\n",
        "   model.add(input) \n",
        "   model.add(layers.Dense(1))\n",
        "   ...\n",
        "```\n",
        "\n",
        "and\n",
        "\n",
        "```python\n",
        "def more_complex_model(X, learning_rate):\n",
        "    ...\n",
        "    model.add(input)\n",
        "    model.add(layers.Dense(64, activation='relu'))\n",
        "    model.add(layers.Dense(1))\n",
        "```\n",
        "\n",
        "* If you observe Plot #1 for the model with no hidden layers you will see an issue: the validation curve is below the training curve. \n",
        "\n",
        "* *This means that the training curve can get better at some point, but the model complexity doesn’t allow it*. This phenomenon is called **underfitting**. \n",
        "* You can also notice that no early stopping occurs here since the performance of this model is bad all the time.\n",
        "\n",
        "* Plot #2 is for the model with a single hidden layer. You can observe a well-behaving curve with the early stopping at epoch 38 and we have a much better result. Nice!\n",
        "\n",
        "* How do we **choose the number of hidden layers and the number of units per layer**? That is a tough question and there is no good answer. \n",
        "\n",
        "* The rule of thumb is to *start with one hidden layer and add as many units as we have features in the dataset*. However, this might not always work. We need to try things out and observe our learning curve.\n",
        "\n"
      ],
      "metadata": {
        "id": "B_s4N3U4eS2h"
      }
    },
    {
      "cell_type": "code",
      "source": [
        "# EXERCISE 5 - Manual tuning: changing the model\n",
        "\n",
        "# Decrease the number of hidden units of the model from 64 to 8 in the \n",
        "# more_complex_model() method. When does the early stopping happen?\n",
        "\n",
        "import tensorflow as tf\n",
        "from tensorflow.keras.models import Sequential\n",
        "from tensorflow.keras import layers\n",
        "from tensorflow.keras.callbacks import EarlyStopping\n",
        "import matplotlib.pyplot as plt\n",
        "\n",
        "def more_complex_model(X, learning_rate):\n",
        "    model = Sequential(name=\"my_first_model\")\n",
        "    input = tf.keras.Input(shape=(X.shape[1],))\n",
        "    model.add(input)\n",
        "    model.add(layers.Dense(8, activation='relu'))\n",
        "    model.add(layers.Dense(1))\n",
        "    opt = tf.keras.optimizers.Adam(learning_rate = learning_rate)\n",
        "    model.compile(loss='mse', metrics=['mae'], optimizer=opt)\n",
        "    return model\n",
        "\n",
        "def one_layer_model(X, learning_rate):\n",
        "    model = Sequential(name=\"my_first_model\")\n",
        "    input = tf.keras.Input(shape=(X.shape[1],))\n",
        "    model.add(input)\n",
        "    model.add(layers.Dense(1))\n",
        "    opt = tf.keras.optimizers.Adam(learning_rate = learning_rate)\n",
        "    model.compile(loss='mse', metrics=['mae'], optimizer=opt)\n",
        "    return model\n",
        "\n",
        "def fit_model(model, f_train, l_train, learning_rate, num_epochs):\n",
        "    #train the model on the training data\n",
        "    es = EarlyStopping(monitor='val_loss', mode='min', verbose=1, patience = 20)\n",
        "    history = model.fit(features_train, labels_train, epochs=num_epochs, batch_size= 2, verbose=0, validation_split = 0.2, callbacks = [es])\n",
        "    return history\n",
        "\n",
        "def plot(history):\n",
        "    # plot learning curves\n",
        "    fig, axs = plt.subplots(1, 2, gridspec_kw={'hspace': 1, 'wspace': 0.8}) \n",
        "    (ax1, ax2) = axs\n",
        "    ax1.plot(history.history['loss'], label='train')\n",
        "    ax1.plot(history.history['val_loss'], label='validation')\n",
        "    ax1.set_title('lrate=' + str(learning_rate))\n",
        "    ax1.legend(loc=\"upper right\")\n",
        "    ax1.set_xlabel(\"# of epochs\")\n",
        "    ax1.set_ylabel(\"loss (mse)\")\n",
        "\n",
        "    ax2.plot(history.history['mae'], label='train')\n",
        "    ax2.plot(history.history['val_mae'], label='validation')\n",
        "    ax2.set_title('lrate=' + str(learning_rate))\n",
        "    ax2.legend(loc=\"upper right\")\n",
        "    ax2.set_xlabel(\"# of epochs\")\n",
        "    ax2.set_ylabel(\"MAE\")\n",
        "    print(\"Final training MAE:\", history.history['mae'][-1])\n",
        "    print(\"Final validation MAE:\", history.history['val_mae'][-1])\n",
        "\n",
        "learning_rate = 0.1\n",
        "num_epochs = 200\n",
        "\n",
        "#fit the more simple model\n",
        "print(\"Results of a one layer model:\")\n",
        "history1 = fit_model(one_layer_model(features_train, learning_rate), features_train, labels_train, learning_rate, num_epochs)\n",
        "plot(history1)\n",
        "plt.savefig('/content/drive/My Drive/Colab/Insurance/static4.png')\n",
        "\n",
        "#fit the more complex model\n",
        "print(\"Results of a model with hidden layers:\")\n",
        "history2 = fit_model(more_complex_model(features_train, learning_rate), features_train, labels_train, learning_rate, num_epochs)\n",
        "plot(history2)\n",
        "plt.savefig('/content/drive/My Drive/Colab/Insurance/static5.png')\n"
      ],
      "metadata": {
        "colab": {
          "base_uri": "https://localhost:8080/",
          "height": 697
        },
        "id": "vBz1FUglfSWH",
        "outputId": "5c5609c1-4064-41ae-e623-4da48b5ddfc5"
      },
      "execution_count": null,
      "outputs": [
        {
          "output_type": "stream",
          "name": "stdout",
          "text": [
            "Results of a one layer model:\n",
            "Final training MAE: 7390.29052734375\n",
            "Final validation MAE: 7081.5712890625\n",
            "Results of a model with hidden layers:\n",
            "Epoch 47: early stopping\n",
            "Final training MAE: 2917.90380859375\n",
            "Final validation MAE: 3213.3427734375\n"
          ]
        },
        {
          "output_type": "display_data",
          "data": {
            "text/plain": [
              "<Figure size 432x288 with 2 Axes>"
            ],
            "image/png": "[encoded data removed]"
          },
          "metadata": {
            "needs_background": "light"
          }
        },
        {
          "output_type": "display_data",
          "data": {
            "text/plain": [
              "<Figure size 432x288 with 2 Axes>"
            ],
            "image/png": "[encoded data removed]"
          },
          "metadata": {
            "needs_background": "light"
          }
        }
      ]
    },
    {
      "cell_type": "markdown",
      "source": [
        "# THEORY 6 - Towards automated tuning: grid and random search\n",
        "\n",
        "* So far we’ve been manually setting and adjusting hyperparameters to train and evaluate our model. If we didn’t like the result, we changed the hyperparameters to some other values. \n",
        "\n",
        "* However, this is rather cumbersome; it would be nice if we could make these changes in a systematic and automated way. Fortunately, there are some strategies for automated hyperparameter tuning, including the following two.\n",
        "\n",
        "* ***Grid search***, or **exhaustive search, tries every combination of desired hyperparameter values**. \n",
        "\n",
        "* If, for example, we want to try learning rates of 0.01 and 0.001 and batch sizes of 10, 30, and 50, grid search will try six combinations of parameters (0.01 and 10, 0.01 and 30, 0.01 and 50, 0.001 and 10, and so on). This obviously gets very computationally demanding when we increase the number of values per hyperparameter or the number of hyperparameters we want to tune.\n",
        "\n",
        "* On the other hand, ***Random Search*** **goes through random combinations of hyperparameters and doesn’t try them all**.\n",
        "\n",
        "## Grid search in Keras\n",
        "\n",
        "* To use GridSearchCV from scikit-learn for regression we need to first wrap our neural network model into a KerasRegressor:\n",
        "\n",
        "```python\n",
        "model = KerasRegressor(build_fn=design_model)\n",
        "```\n",
        "\n",
        "* Then we need to setup the desired hyperparameters grid (we don’t use many values for the sake of speed):\n",
        "\n",
        "```python\n",
        "batch_size = [10, 40]\n",
        "epochs = [10, 50]\n",
        "param_grid = dict(batch_size=batch_size, epochs=epochs)\n",
        "```\n",
        "\n",
        "Finally, we initialize a GridSearchCV object and fit our model to the data:\n",
        "\n",
        "```python\n",
        "grid = GridSearchCV(estimator = model, param_grid=param_grid, scoring = make_scorer(mean_squared_error, greater_is_better=False))\n",
        "grid_result = grid.fit(features_train, labels_train, verbose = 0)\n",
        "```\n",
        "\n",
        "* Notice that we initialized the scoring parameter with scikit-learn’s .**make_scorer() method**. We’re evaluating our hyperparameter combinations with a mean squared error making sure that greater_is_better is set to False since we are searching for a set of hyperparameters that yield us the smallest error.\n",
        "\n",
        "## Randomized search in Keras\n",
        "\n",
        "* We first change our hyperparameter grid specification for the randomized search in order to have more options:\n",
        "\n",
        "```python\n",
        "param_grid = {'batch_size': sp_randint(2, 16), 'nb_epoch': sp_randint(10, 100)}\n",
        "```\n",
        "\n",
        "* **Randomized search** will sample values for batch_size and nb_epoch from uniform distributions in the interval [2, 16] and [10, 100], respectively, for a fixed number of iterations. \n",
        "\n",
        "* In our case, 12 iterations:\n",
        "\n",
        "```python\n",
        "grid = RandomizedSearchCV(estimator = model, param_distributions=param_grid, scoring = make_scorer(mean_squared_error, greater_is_better=False), n_iter = 12)\n",
        "```\n",
        "\n",
        "We cover only simpler cases here, but you can set up GridSearchCV and RandomizedSearchCV to tune over any hyperparameters you can think of: optimizers, number of hidden layers, number of neurons per layer, and so on."
      ],
      "metadata": {
        "id": "4-o0kBhOgyZO"
      }
    },
    {
      "cell_type": "code",
      "source": [
        "# EXERCISE 6 - Towards automated tuning: grid and random search\n",
        "\n",
        "# Change the batch_size array to [6, 64] to try other batch size values. \n",
        "# Rerun the script and observe what is the best combination for grid search \n",
        "# in the output that looks something like this:\n",
        "\n",
        "# Best: -239970538.248960 using {'batch_size': 3, 'nb_epoch': 61}\n",
        "\n",
        "from sklearn.model_selection import GridSearchCV\n",
        "from sklearn.model_selection import RandomizedSearchCV\n",
        "from scipy.stats import randint as sp_randint\n",
        "from keras.wrappers.scikit_learn import KerasRegressor\n",
        "from sklearn.metrics import mean_squared_error\n",
        "from sklearn.metrics import make_scorer\n",
        "\n",
        "import tensorflow as tf\n",
        "import pandas as pd\n",
        "from tensorflow.keras.models import Sequential\n",
        "from tensorflow.keras import layers\n",
        "from sklearn.model_selection import train_test_split\n",
        "from sklearn.preprocessing import StandardScaler\n",
        "from sklearn.compose import ColumnTransformer\n",
        "from sklearn.preprocessing import Normalizer\n",
        "from tensorflow.keras.callbacks import EarlyStopping\n",
        "\n",
        "tf.random.set_seed(42) #for reproducibility of result we always use the same seed for random number generator\n",
        "#dataset = pd.read_csv(\"insurance.csv\") #read the dataset\n",
        "\n",
        "def design_model():\n",
        "    model = Sequential(name=\"my_first_model\")\n",
        "    input = tf.keras.Input(shape=(11,))\n",
        "    model.add(input)\n",
        "    model.add(layers.Dense(11, activation = 'relu'))\n",
        "    model.add(layers.Dense(1))\n",
        "    opt = tf.keras.optimizers.Adam(learning_rate = 0.01)\n",
        "    model.compile(loss='mse', metrics=['mae'], optimizer=opt)\n",
        "    return model\n",
        "\n",
        "features = dataset.iloc[:,0:6] #choose first 7 columns as features\n",
        "labels = dataset.iloc[:,-1] #choose the final column for prediction\n",
        "\n",
        "features = pd.get_dummies(features) #one hot encoding for categorical variables\n",
        "features_train, features_test, labels_train, labels_test = train_test_split(features, labels, test_size=0.33, random_state=42)\n",
        "\n",
        "#standardize\n",
        "ct = ColumnTransformer([('standardize', StandardScaler(), ['age', 'bmi', 'children'])], remainder='passthrough')\n",
        "scaled_features_train = ct.fit_transform(features_train) #gives numpy arrays\n",
        "scaled_features_test = ct.transform(features_test) #gives numpy arrays\n",
        "\n",
        "#------------- GRID SEARCH --------------\n",
        "\n",
        "def do_grid_search():\n",
        "  batch_size = [6, 64]\n",
        "  epochs = [10, 50]\n",
        "  model = KerasRegressor(build_fn=design_model)\n",
        "  param_grid = dict(batch_size=batch_size, epochs=epochs)\n",
        "  grid = GridSearchCV(estimator = model, param_grid=param_grid, scoring = make_scorer(mean_squared_error, greater_is_better=False),return_train_score = True)\n",
        "  grid_result = grid.fit(features_train, labels_train, verbose = 0)\n",
        "  print(grid_result)\n",
        "  print(\"Best: %f using %s\" % (grid_result.best_score_, grid_result.best_params_))\n",
        "\n",
        "  means = grid_result.cv_results_['mean_test_score']\n",
        "  stds = grid_result.cv_results_['std_test_score']\n",
        "  params = grid_result.cv_results_['params']\n",
        "  for mean, stdev, param in zip(means, stds, params):\n",
        "      print(\"%f (%f) with: %r\" % (mean, stdev, param))\n",
        "\n",
        "  print(\"Traininig\")\n",
        "  means = grid_result.cv_results_['mean_train_score']\n",
        "  stds = grid_result.cv_results_['std_train_score']\n",
        "  for mean, stdev, param in zip(means, stds, params):\n",
        "      print(\"%f (%f) with: %r\" % (mean, stdev, param))\n",
        "\n",
        "\n",
        "#------------- RANDOMIZED SEARCH --------------\n",
        "def do_randomized_search():\n",
        "  param_grid = {'batch_size': sp_randint(2, 16), 'nb_epoch': sp_randint(10, 100)}\n",
        "  model = KerasRegressor(build_fn=design_model)\n",
        "  grid = RandomizedSearchCV(estimator = model, param_distributions=param_grid, scoring = make_scorer(mean_squared_error, greater_is_better=False), n_iter = 12)\n",
        "  grid_result = grid.fit(features_train, labels_train, verbose = 0)\n",
        "  print(grid_result)\n",
        "  print(\"Best: %f using %s\" % (grid_result.best_score_, grid_result.best_params_))\n",
        "\n",
        "  means = grid_result.cv_results_['mean_test_score']\n",
        "  stds = grid_result.cv_results_['std_test_score']\n",
        "  params = grid_result.cv_results_['params']\n",
        "  for mean, stdev, param in zip(means, stds, params):\n",
        "      print(\"%f (%f) with: %r\" % (mean, stdev, param))\n",
        "\n",
        "print(\"-------------- GRID SEARCH --------------------\")\n",
        "do_grid_search()\n",
        "print(\"-------------- RANDOMIZED SEARCH --------------------\")\n",
        "do_randomized_search()\n",
        "\n"
      ],
      "metadata": {
        "colab": {
          "base_uri": "https://localhost:8080/"
        },
        "id": "k_ppttSIjU2H",
        "outputId": "b82021d4-64c5-4d07-d81f-1d6ffb58b191"
      },
      "execution_count": null,
      "outputs": [
        {
          "output_type": "stream",
          "name": "stdout",
          "text": [
            "-------------- GRID SEARCH --------------------\n"
          ]
        },
        {
          "output_type": "stream",
          "name": "stderr",
          "text": [
            "/usr/local/lib/python3.7/dist-packages/ipykernel_launcher.py:55: DeprecationWarning: KerasRegressor is deprecated, use Sci-Keras (https://github.com/adriangb/scikeras) instead. See https://www.adriangb.com/scikeras/stable/migration.html for help migrating.\n"
          ]
        },
        {
          "output_type": "stream",
          "name": "stdout",
          "text": [
            "GridSearchCV(estimator=<keras.wrappers.scikit_learn.KerasRegressor object at 0x7f36ecd3cfd0>,\n",
            "             param_grid={'batch_size': [6, 64], 'epochs': [10, 50]},\n",
            "             return_train_score=True,\n",
            "             scoring=make_scorer(mean_squared_error, greater_is_better=False))\n",
            "Best: -94821889.349433 using {'batch_size': 6, 'epochs': 50}\n",
            "-127903509.252856 (14362718.991110) with: {'batch_size': 6, 'epochs': 10}\n",
            "-94821889.349433 (16273590.843901) with: {'batch_size': 6, 'epochs': 50}\n",
            "-295441868.078523 (36543220.689110) with: {'batch_size': 64, 'epochs': 10}\n",
            "-130333107.844731 (15285573.363596) with: {'batch_size': 64, 'epochs': 50}\n",
            "Traininig\n",
            "-127691516.314034 (3808532.202013) with: {'batch_size': 6, 'epochs': 10}\n",
            "-93319093.015992 (7337052.896915) with: {'batch_size': 6, 'epochs': 50}\n",
            "-295054718.590911 (4293281.258339) with: {'batch_size': 64, 'epochs': 10}\n",
            "-130385053.153835 (4147235.094579) with: {'batch_size': 64, 'epochs': 50}\n",
            "-------------- RANDOMIZED SEARCH --------------------\n"
          ]
        },
        {
          "output_type": "stream",
          "name": "stderr",
          "text": [
            "/usr/local/lib/python3.7/dist-packages/ipykernel_launcher.py:78: DeprecationWarning: KerasRegressor is deprecated, use Sci-Keras (https://github.com/adriangb/scikeras) instead. See https://www.adriangb.com/scikeras/stable/migration.html for help migrating.\n"
          ]
        },
        {
          "output_type": "stream",
          "name": "stdout",
          "text": [
            "RandomizedSearchCV(estimator=<keras.wrappers.scikit_learn.KerasRegressor object at 0x7f36e64fa950>,\n",
            "                   n_iter=12,\n",
            "                   param_distributions={'batch_size': <scipy.stats._distn_infrastructure.rv_frozen object at 0x7f36e620e510>,\n",
            "                                        'nb_epoch': <scipy.stats._distn_infrastructure.rv_frozen object at 0x7f36ecd3cfd0>},\n",
            "                   scoring=make_scorer(mean_squared_error, greater_is_better=False))\n",
            "Best: -186136179.331120 using {'batch_size': 2, 'nb_epoch': 80}\n",
            "-321184528.616006 (29987774.810552) with: {'batch_size': 14, 'nb_epoch': 65}\n",
            "-302857713.600384 (36889473.776442) with: {'batch_size': 6, 'nb_epoch': 77}\n",
            "-313318394.618727 (29567186.977028) with: {'batch_size': 9, 'nb_epoch': 94}\n",
            "-270526615.492553 (19265184.787883) with: {'batch_size': 4, 'nb_epoch': 94}\n",
            "-303315939.628365 (30406892.019944) with: {'batch_size': 6, 'nb_epoch': 25}\n",
            "-307891526.348435 (33876381.871931) with: {'batch_size': 7, 'nb_epoch': 16}\n",
            "-312735624.012785 (31306289.317410) with: {'batch_size': 8, 'nb_epoch': 15}\n",
            "-317502767.355390 (32009050.634080) with: {'batch_size': 10, 'nb_epoch': 54}\n",
            "-188019554.159580 (29320169.727916) with: {'batch_size': 2, 'nb_epoch': 75}\n",
            "-186136179.331120 (23238801.089400) with: {'batch_size': 2, 'nb_epoch': 80}\n",
            "-295676739.859111 (44647918.323188) with: {'batch_size': 5, 'nb_epoch': 39}\n",
            "-310498517.057367 (32891134.906606) with: {'batch_size': 8, 'nb_epoch': 80}\n"
          ]
        }
      ]
    },
    {
      "cell_type": "markdown",
      "source": [
        "# EXERCISE 8 - Regularization: dropout\n",
        "\n",
        "* **Regularization** is a ***set of techniques that prevent the learning process to completely fit the model to the training data which can lead to overfitting***. \n",
        "\n",
        "* It makes the model simpler, smooths out the learning curve, and hence makes it more ‘regular’. There are many techniques for regularization such as simplifying the model, adding weight regularization, weight decay, and so on. \n",
        "\n",
        "* **The most common regularization method is dropout**.\n",
        "\n",
        "* ***Dropout*** is a ***technique that randomly ignores, or “drops out” a number of outputs of a layer by setting them to zeros***. The dropout rate is the percentage of layer outputs set to zero (usually between 20% to 50%).\n",
        "\n",
        "* In Keras, we can add a dropout layer by introducing the **Dropout layer**.\n",
        "\n",
        "### New Model for demonstrate Dropout\n",
        "\n",
        "1. Let’s recreate our overfitting network having too many layers and too many neurons per layer in the design_model_no_dropout() method in insurance_tuning.py. \n",
        "2. For this model, we get the learning curve depicted in Figure 1. The validation error gets worse, which indicates the trend of overfitting.\n",
        "3. Next, we introduce dropout layers in the design_model_dropout() method in insurance_tuning.py. Our model looks like this:\n",
        "\n",
        "```python\n",
        "model.add(input)\n",
        "model.add(layers.Dense(128, activation = 'relu'))\n",
        "model.add(layers.Dropout(0.1))\n",
        "model.add(layers.Dense(64, activation = 'relu'))\n",
        "model.add(layers.Dropout(0.2))\n",
        "model.add(layers.Dense(24, activation = 'relu'))\n",
        "#your code here!\n",
        "model.add(layers.Dense(1))\n",
        "```\n",
        "\n",
        "* For this model, we get the learning curve in Figure 2. The validation MAE we get with the dropout is lower than without it.\n",
        "\n",
        "* Note that the validation error is also lower than the training error in this case. One of the explanations might be that the dropout is used only during training, and the full network is used during the validation/testing with layers’ output scaled down by the dropout rate.\n",
        "\n",
        "Applies Dropout to the input.\n",
        "\n",
        "### Additional Notes for Dropout\n",
        "\n",
        "* The ***Dropout layer*** randomly sets input units to 0 with a frequency of rate\n",
        "at each step during training time, which helps prevent overfitting.\n",
        "Inputs not set to 0 are scaled up by 1/(1 - rate) such that the sum over\n",
        "all inputs is unchanged.\n",
        "\n",
        "* Note that the Dropout layer only applies when training is set to True\n",
        "such that no values are dropped during inference. When using model.fit,\n",
        "training will be appropriately set to True automatically, and in other\n",
        "contexts, you can set the kwarg explicitly to True when calling the layer."
      ],
      "metadata": {
        "id": "LrEH6G50nn5y"
      }
    },
    {
      "cell_type": "code",
      "source": [
        "# EXERCISE 8 - Regularization: dropout\n",
        "\n",
        "# 1. In the design_model_dropout() method, after the hidden layer with 24 \n",
        "# neurons, add another dropout method as an instance of tensorflow.keras.layers.Dropout \n",
        "# with the dropout rate set to 0.3.\n",
        "\n",
        "import tensorflow as tf\n",
        "from tensorflow.keras.models import Sequential\n",
        "from tensorflow.keras import layers\n",
        "from tensorflow.keras.callbacks import EarlyStopping\n",
        "import matplotlib.pyplot as plt\n",
        "\n",
        "import pandas as pd\n",
        "from sklearn.model_selection import train_test_split\n",
        "from sklearn.preprocessing import StandardScaler\n",
        "from sklearn.compose import ColumnTransformer\n",
        "from sklearn.preprocessing import Normalizer\n",
        "\n",
        "### model.py\n",
        "tf.random.set_seed(42) #for reproducibility of result we always use the same seed for random number generator\n",
        "\n",
        "# dataset = pd.read_csv(\"insurance.csv\") #read the dataset\n",
        "\n",
        "def fit_model(model, f_train, l_train, learning_rate, num_epochs):\n",
        "    #train the model on the training data\n",
        "    es = EarlyStopping(monitor='val_loss', mode='min', verbose=1, patience = 20)\n",
        "    history = model.fit(features_train, labels_train, epochs=num_epochs, batch_size= 16, verbose=0, validation_split = 0.2, callbacks = [es])\n",
        "    return history\n",
        "\n",
        "features = dataset.iloc[:,0:6] #choose first 7 columns as features\n",
        "labels = dataset.iloc[:,-1] #choose the final column for prediction\n",
        "\n",
        "features = pd.get_dummies(features) #one hot encoding for categorical variables\n",
        "features_train, features_test, labels_train, labels_test = train_test_split(features, labels, test_size=0.33, random_state=42)\n",
        "\n",
        "#standardize\n",
        "ct = ColumnTransformer([('standardize', StandardScaler(), ['age', 'bmi', 'children'])], remainder='passthrough')\n",
        "features_train = ct.fit_transform(features_train) #gives numpy arrays\n",
        "features_test = ct.transform(features_test) #gives numpy arrays\n",
        "\n",
        "### insurance_tuning.py\n",
        "def design_model_dropout(X, learning_rate):\n",
        "    model = Sequential(name=\"my_first_model\")\n",
        "    input = tf.keras.Input(shape=(X.shape[1],))\n",
        "    model.add(input)\n",
        "    model.add(layers.Dense(128, activation='relu'))\n",
        "    model.add(layers.Dropout(0.1))\n",
        "    model.add(layers.Dense(64, activation='relu'))\n",
        "    model.add(layers.Dropout(0.2))\n",
        "    model.add(layers.Dense(24, activation='relu'))\n",
        "    #------your code here!------\n",
        "    model.add(layers.Dropout(0.3))\n",
        "\n",
        "    model.add(layers.Dense(1))\n",
        "    opt = tf.keras.optimizers.Adam(learning_rate = learning_rate)\n",
        "    model.compile(loss='mse', metrics=['mae'], optimizer=opt)\n",
        "    return model\n",
        "\n",
        "def design_model_no_dropout(X, learning_rate):\n",
        "    model = Sequential(name=\"my_first_model\")\n",
        "    input = layers.InputLayer(input_shape=(X.shape[1],))\n",
        "    model.add(input)\n",
        "    model.add(layers.Dense(128, activation='relu'))\n",
        "    model.add(layers.Dense(64, activation='relu'))\n",
        "    model.add(layers.Dense(24, activation='relu'))\n",
        "    model.add(layers.Dense(1))\n",
        "    opt = tf.keras.optimizers.Adam(learning_rate = learning_rate)\n",
        "    model.compile(loss='mse', metrics=['mae'], optimizer=opt)\n",
        "    return model\n",
        "    \n",
        "#using the early stopping in fit_model\n",
        "learning_rate = 0.001\n",
        "num_epochs = 200\n",
        "#train the model without dropout\n",
        "history1 = fit_model(design_model_no_dropout(features_train, learning_rate), features_train, labels_train, learning_rate, num_epochs)\n",
        "#train the model with dropout\n",
        "history2 = fit_model(design_model_dropout(features_train, learning_rate), features_train, labels_train, learning_rate, num_epochs)\n",
        "\n",
        "### plot.py\n",
        "def plot(history, path):\n",
        "  #plotting\n",
        "  fig, axs = plt.subplots(1, 2, gridspec_kw={'hspace': 1, 'wspace': 0.5}) \n",
        "  (ax1, ax2) = axs\n",
        "  ax1.plot(history.history['loss'], label='train')\n",
        "  ax1.plot(history.history['val_loss'], label='validation')\n",
        "  ax1.legend(loc=\"upper right\")\n",
        "  ax1.set_xlabel(\"# of epochs\")\n",
        "  ax1.set_ylabel(\"loss (mse)\")\n",
        "\n",
        "  ax2.plot(history.history['mae'], label='train')\n",
        "  ax2.plot(history.history['val_mae'], label='validation')\n",
        "  ax2.legend(loc=\"upper right\")\n",
        "  ax2.set_xlabel(\"# of epochs\")\n",
        "  ax2.set_ylabel(\"MAE\")\n",
        "\n",
        "  plt.savefig(path)\n",
        "\n",
        "plt.savefig('/content/drive/My Drive/Colab/Insurance/no_dropout.png')\n",
        "plt.savefig('/content/drive/My Drive/Colab/Insurance/with_dropout.png')\n",
        "\n",
        "plot(history1, '/content/drive/My Drive/Colab/Insurance/no_dropout.png')\n",
        "\n",
        "plot(history2, '/content/drive/My Drive/Colab/Insurance/with_dropout.png')\n",
        "\n"
      ],
      "metadata": {
        "colab": {
          "base_uri": "https://localhost:8080/",
          "height": 598
        },
        "id": "uK48g7zXpWiq",
        "outputId": "84830f79-e48d-40b1-db7e-23422165f50d"
      },
      "execution_count": null,
      "outputs": [
        {
          "output_type": "stream",
          "name": "stdout",
          "text": [
            "Epoch 161: early stopping\n"
          ]
        },
        {
          "output_type": "display_data",
          "data": {
            "text/plain": [
              "<Figure size 432x288 with 0 Axes>"
            ]
          },
          "metadata": {}
        },
        {
          "output_type": "display_data",
          "data": {
            "text/plain": [
              "<Figure size 432x288 with 2 Axes>"
            ],
            "image/png": "[encoded data removed]"
          },
          "metadata": {
            "needs_background": "light"
          }
        },
        {
          "output_type": "display_data",
          "data": {
            "text/plain": [
              "<Figure size 432x288 with 2 Axes>"
            ],
            "image/png": "[encoded data removed]"
          },
          "metadata": {
            "needs_background": "light"
          }
        }
      ]
    }
  ],
  "metadata": {
    "colab": {
      "collapsed_sections": [],
      "name": "2_HyperParameter Tuning.ipynb",
      "provenance": [],
      "authorship_tag": "ABX9TyMa+59OYCHDC5NvIYJ6JPQl",
      "include_colab_link": true
    },
    "kernelspec": {
      "display_name": "Python 3",
      "name": "python3"
    },
    "language_info": {
      "name": "python"
    }
  },
  "nbformat": 4,
  "nbformat_minor": 0
}